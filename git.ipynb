{
 "cells": [
  {
   "cell_type": "code",
   "execution_count": 1,
   "id": "a23a21c2-c104-4dba-917b-a2cc6fa8b0ef",
   "metadata": {},
   "outputs": [
    {
     "name": "stdout",
     "output_type": "stream",
     "text": [
      "Initialized empty Git repository in /Users/juliechen/Desktop/medical ai/AI_intensive/.git/\n"
     ]
    }
   ],
   "source": [
    "!git init"
   ]
  },
  {
   "cell_type": "code",
   "execution_count": 2,
   "id": "743335a8-6b01-466b-8e0d-9000b58de3d9",
   "metadata": {},
   "outputs": [
    {
     "name": "stdout",
     "output_type": "stream",
     "text": [
      "On branch main\n",
      "\n",
      "No commits yet\n",
      "\n",
      "Untracked files:\n",
      "  (use \"git add <file>...\" to include in what will be committed)\n",
      "\t\u001b[31m.gitignore\u001b[m\n",
      "\t\u001b[31mconda.txt\u001b[m\n",
      "\t\u001b[31mdemo.py\u001b[m\n",
      "\t\u001b[31mdemo_module/\u001b[m\n",
      "\t\u001b[31menvironment.yml\u001b[m\n",
      "\t\u001b[31mgit.ipynb\u001b[m\n",
      "\n",
      "nothing added to commit but untracked files present (use \"git add\" to track)\n"
     ]
    }
   ],
   "source": [
    "!git status"
   ]
  },
  {
   "cell_type": "code",
   "execution_count": 3,
   "id": "ef70b945-aaae-47f3-ab92-5e20e81e0fc4",
   "metadata": {},
   "outputs": [],
   "source": [
    "!git add environment.yml"
   ]
  },
  {
   "cell_type": "code",
   "execution_count": 4,
   "id": "6067e395-d9a6-47a0-ad11-e665fb29ccac",
   "metadata": {},
   "outputs": [
    {
     "name": "stdout",
     "output_type": "stream",
     "text": [
      "On branch main\n",
      "\n",
      "No commits yet\n",
      "\n",
      "Changes to be committed:\n",
      "  (use \"git rm --cached <file>...\" to unstage)\n",
      "\t\u001b[32mnew file:   environment.yml\u001b[m\n",
      "\n",
      "Untracked files:\n",
      "  (use \"git add <file>...\" to include in what will be committed)\n",
      "\t\u001b[31m.gitignore\u001b[m\n",
      "\t\u001b[31mconda.txt\u001b[m\n",
      "\t\u001b[31mdemo.py\u001b[m\n",
      "\t\u001b[31mdemo_module/\u001b[m\n",
      "\t\u001b[31mgit.ipynb\u001b[m\n",
      "\n"
     ]
    }
   ],
   "source": [
    "!git status"
   ]
  },
  {
   "cell_type": "code",
   "execution_count": null,
   "id": "052a7926-45e4-4c46-b66f-611649ffa1a7",
   "metadata": {},
   "outputs": [],
   "source": [
    "!git commit -m \"Add environment.yml with saved virtual env config\""
   ]
  },
  {
   "cell_type": "code",
   "execution_count": null,
   "id": "e667de92-a8d9-4e42-91a5-9ca2a9975d61",
   "metadata": {},
   "outputs": [],
   "source": [
    "!git status"
   ]
  },
  {
   "cell_type": "code",
   "execution_count": null,
   "id": "d8a8f0c6-7e08-450e-8d7e-2fa1db0c0cf2",
   "metadata": {},
   "outputs": [],
   "source": [
    "!git add -A"
   ]
  },
  {
   "cell_type": "code",
   "execution_count": null,
   "id": "897d4edc-f1d5-445e-b9c3-9d8a1ec18ba8",
   "metadata": {},
   "outputs": [],
   "source": [
    "!git commit -m \"Add remaining demo repository files including files from conda and git demos\""
   ]
  },
  {
   "cell_type": "code",
   "execution_count": null,
   "id": "a9e4deb4-c88f-4c5a-a24e-37e12b7a6cba",
   "metadata": {},
   "outputs": [],
   "source": [
    "!git checkout -b dev/demo-change/jchen80"
   ]
  },
  {
   "cell_type": "code",
   "execution_count": null,
   "id": "7cebef85-80d2-46b3-9617-e12a4b27cf02",
   "metadata": {},
   "outputs": [],
   "source": [
    "!git branch"
   ]
  },
  {
   "cell_type": "code",
   "execution_count": null,
   "id": "2ab4d5f6-cc0e-4830-9f4e-e12dafc8a627",
   "metadata": {},
   "outputs": [],
   "source": [
    "!git status"
   ]
  },
  {
   "cell_type": "code",
   "execution_count": null,
   "id": "a387a81d-df8c-4b00-bb87-6fa0c7d326ae",
   "metadata": {},
   "outputs": [],
   "source": [
    "!git add demo.py"
   ]
  },
  {
   "cell_type": "code",
   "execution_count": null,
   "id": "5507a301-789f-436d-a0e4-5bf75dae41e1",
   "metadata": {},
   "outputs": [],
   "source": [
    "!git commit -m \"Make small demo change to notebook\""
   ]
  },
  {
   "cell_type": "code",
   "execution_count": null,
   "id": "8d15e916-7a3c-45b3-b2ef-059bf8fb5883",
   "metadata": {},
   "outputs": [],
   "source": [
    "!python3 demo.py"
   ]
  },
  {
   "cell_type": "code",
   "execution_count": null,
   "id": "b92b73e1-d613-44c7-958c-3b0269d8d52e",
   "metadata": {},
   "outputs": [],
   "source": [
    "!git checkout main"
   ]
  },
  {
   "cell_type": "code",
   "execution_count": null,
   "id": "65c55e1b-bde1-43f5-901d-e76d424eb302",
   "metadata": {},
   "outputs": [],
   "source": [
    "!python3 demo.py"
   ]
  },
  {
   "cell_type": "code",
   "execution_count": null,
   "id": "6229ec31-b60c-4240-908b-04b4f9fcdec8",
   "metadata": {},
   "outputs": [],
   "source": [
    "# Moving to terminal \n",
    "# git remote add origin git@github.com:jchen80/ai-intensive-demo.git\n",
    "# git checkout main\n",
    "# git push -u origin main\n",
    "# git push -u origin dev/demo-change/jchen80\n",
    "\n",
    "# Make a pull request and merge to main"
   ]
  },
  {
   "cell_type": "code",
   "execution_count": null,
   "id": "13e15d8b-2397-4b5c-97c7-e0d3dc0ec1de",
   "metadata": {},
   "outputs": [],
   "source": []
  }
 ],
 "metadata": {
  "kernelspec": {
   "display_name": "Python 3 (ipykernel)",
   "language": "python",
   "name": "python3"
  },
  "language_info": {
   "codemirror_mode": {
    "name": "ipython",
    "version": 3
   },
   "file_extension": ".py",
   "mimetype": "text/x-python",
   "name": "python",
   "nbconvert_exporter": "python",
   "pygments_lexer": "ipython3",
   "version": "3.9.1"
  }
 },
 "nbformat": 4,
 "nbformat_minor": 5
}
