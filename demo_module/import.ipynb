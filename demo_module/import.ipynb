{
 "cells": [
  {
   "cell_type": "code",
   "execution_count": 5,
   "id": "340185de-6cb6-4c89-a8ff-e3abd7fd83bb",
   "metadata": {},
   "outputs": [],
   "source": [
    "from demo_module import math as my_math\n",
    "import math"
   ]
  },
  {
   "cell_type": "code",
   "execution_count": 4,
   "id": "309ffdbb-abc8-4a28-86c4-b24a39f6bd60",
   "metadata": {},
   "outputs": [
    {
     "name": "stdout",
     "output_type": "stream",
     "text": [
      "Math operation using my demo_module where a = 5 and b = 4.\n",
      "Result is 645\n"
     ]
    }
   ],
   "source": [
    "a = 5\n",
    "b = 4\n",
    "print(f\"Math operation using my demo_module where a = {a} and b = {b}.\")\n",
    "print(f\"Result is {my_math.my_math_function(a, b)}\")"
   ]
  },
  {
   "cell_type": "code",
   "execution_count": 5,
   "id": "d9b5bb49-dbaa-424a-9234-01bdd06a483b",
   "metadata": {},
   "outputs": [
    {
     "name": "stdout",
     "output_type": "stream",
     "text": [
      "Math operation using standard math module where a = 5 and b = 4.\n",
      "Result of log(a) with base b operation is 1.160964047443681\n"
     ]
    }
   ],
   "source": [
    "print(f\"Math operation using standard math module where a = {a} and b = {b}.\")\n",
    "print(f\"Result of log(a) with base b operation is {math.log(a, b)}\")"
   ]
  },
  {
   "cell_type": "code",
   "execution_count": 8,
   "id": "fb1af827-7fc0-46b3-8d12-684ed8b3bab4",
   "metadata": {},
   "outputs": [
    {
     "data": {
      "text/plain": [
       "1"
      ]
     },
     "execution_count": 8,
     "metadata": {},
     "output_type": "execute_result"
    }
   ],
   "source": [
    "a = 1\n",
    "\n",
    "def my_function():\n",
    "    return a\n",
    "\n",
    "my_function()"
   ]
  },
  {
   "cell_type": "code",
   "execution_count": 9,
   "id": "4e068b02-7e96-40c7-b8bc-7bd093c1e80e",
   "metadata": {},
   "outputs": [
    {
     "data": {
      "text/plain": [
       "1"
      ]
     },
     "execution_count": 9,
     "metadata": {},
     "output_type": "execute_result"
    }
   ],
   "source": [
    "def my_function(a):\n",
    "    return a\n",
    "\n",
    "my_function(1)"
   ]
  },
  {
   "cell_type": "code",
   "execution_count": 12,
   "id": "b797414b-ce49-4960-a534-dca998bafaf0",
   "metadata": {},
   "outputs": [
    {
     "data": {
      "text/plain": [
       "128"
      ]
     },
     "execution_count": 12,
     "metadata": {},
     "output_type": "execute_result"
    }
   ],
   "source": [
    "count = 123\n",
    "count += 5\n",
    "count"
   ]
  },
  {
   "cell_type": "code",
   "execution_count": 11,
   "id": "524b54dc-2a4b-416a-b61f-86f3199e1e3b",
   "metadata": {},
   "outputs": [
    {
     "name": "stdout",
     "output_type": "stream",
     "text": [
      "My count is 128\n"
     ]
    }
   ],
   "source": [
    "class Counter():\n",
    "    def __init__(self, count):\n",
    "        self.count = count\n",
    "        \n",
    "    def print_count(self):\n",
    "        print(f\"My count is {self.count}\")\n",
    "    \n",
    "    def increase_count(self, addend=1):\n",
    "        self.count += addend\n",
    "        \n",
    "myCounter = Counter(123)\n",
    "myCounter.increase_count(5)\n",
    "myCounter.print_count()"
   ]
  },
  {
   "cell_type": "code",
   "execution_count": 15,
   "id": "1e332004-7717-4fa4-8387-468b49ee3db3",
   "metadata": {},
   "outputs": [
    {
     "name": "stdout",
     "output_type": "stream",
     "text": [
      "1\n",
      "2\n",
      "3\n",
      "4\n",
      "5\n"
     ]
    }
   ],
   "source": [
    "j = 0\n",
    "while (j < 5):\n",
    "    j += 1\n",
    "    print(j)"
   ]
  },
  {
   "cell_type": "code",
   "execution_count": 16,
   "id": "a6ac3cf2-3960-4334-a30f-ecae00cebdb7",
   "metadata": {},
   "outputs": [
    {
     "name": "stdout",
     "output_type": "stream",
     "text": [
      "5\n"
     ]
    }
   ],
   "source": [
    "j = 0\n",
    "while (j < 5):\n",
    "    j += 1\n",
    "print(j)"
   ]
  },
  {
   "cell_type": "code",
   "execution_count": 2,
   "id": "3f2f78fc-b670-427c-9b6a-0396d5f03869",
   "metadata": {},
   "outputs": [
    {
     "name": "stdout",
     "output_type": "stream",
     "text": [
      "Hello, Eric. Your age is 30\n"
     ]
    }
   ],
   "source": [
    "name = \"Eric\"\n",
    "age = 30\n",
    "print(\"Hello, %s. Your age is %s\" % (name, age))"
   ]
  },
  {
   "cell_type": "code",
   "execution_count": 3,
   "id": "1bf4c166-4b62-442d-89a7-55e79878c8d5",
   "metadata": {},
   "outputs": [
    {
     "name": "stdout",
     "output_type": "stream",
     "text": [
      "Hello, Eric. You are 30\n"
     ]
    }
   ],
   "source": [
    "name = \"Eric\"\n",
    "age = 30\n",
    "print(f\"Hello, {name}. You are {age}\")"
   ]
  },
  {
   "cell_type": "code",
   "execution_count": null,
   "id": "48448085-cc05-46b5-9055-d778b4aea968",
   "metadata": {},
   "outputs": [],
   "source": []
  }
 ],
 "metadata": {
  "kernelspec": {
   "display_name": "Python 3 (ipykernel)",
   "language": "python",
   "name": "python3"
  },
  "language_info": {
   "codemirror_mode": {
    "name": "ipython",
    "version": 3
   },
   "file_extension": ".py",
   "mimetype": "text/x-python",
   "name": "python",
   "nbconvert_exporter": "python",
   "pygments_lexer": "ipython3",
   "version": "3.9.1"
  }
 },
 "nbformat": 4,
 "nbformat_minor": 5
}
